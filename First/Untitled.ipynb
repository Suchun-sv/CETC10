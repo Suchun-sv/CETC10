{
 "cells": [
  {
   "cell_type": "code",
   "execution_count": 2,
   "metadata": {},
   "outputs": [],
   "source": [
    "import pandas as pd\n",
    "import numpy as np\n",
    "import os"
   ]
  },
  {
   "cell_type": "code",
   "execution_count": 10,
   "metadata": {},
   "outputs": [],
   "source": [
    "class UPLOAD:\n",
    "    def __init__(self, rootName=''):\n",
    "        self.root = rootName\n",
    "        \n",
    "    def dian(self, df, name):\n",
    "        df['JD'] = df['JD'].astype(str)\n",
    "        df['WD'] = df['WD'].astype(str)\n",
    "        df['new'] = df['JD']+','+df['WD']\n",
    "        df.to_csv(name+'.csv', index=False)\n",
    "        return df\n",
    "    \n",
    "    def oldTonew(self, df_temp):\n",
    "        h = list()\n",
    "        for j in df_temp:\n",
    "            j = '['+j+']'\n",
    "            h.append(j)\n",
    "        h = str(h)\n",
    "        h = h.replace(\"'\",\"\")\n",
    "        h = h[1:-1]\n",
    "        return h\n",
    "    \n",
    "    def xian(self, df, colName='0'):\n",
    "        '''将同一组的JD和WD变成一列\n",
    "        \n",
    "        df是df,colName是要换的名字'''\n",
    "        df['JD'] = df['JD'].astype(str)\n",
    "        df['WD'] = df['WD'].astype(str)\n",
    "        df['new'] = df['JD']+','+df['WD']\n",
    "        df_temp = df['new']\n",
    "        m = list()\n",
    "        h = list()\n",
    "        for j in df_temp:\n",
    "            j = '['+j+']'\n",
    "            h.append(j)\n",
    "        h = str(h)\n",
    "        h = h.replace(\"'\",\"\")\n",
    "        h = h[1:-1]\n",
    "        m = [[colName, h]]\n",
    "        m = pd.DataFrame(m)\n",
    "        return m\n",
    "    \n",
    "    def save(self, df, name):\n",
    "        '''存为csv\n",
    "        \n",
    "        目录存在self.root里,初始化的时候确定,name就是要保存的文件名字'''\n",
    "        df.to_csv(os.path.join(self.root, name+'.csv'), index=False)"
   ]
  },
  {
   "cell_type": "code",
   "execution_count": 11,
   "metadata": {},
   "outputs": [],
   "source": [
    "upload = UPLOAD('拟合航迹')"
   ]
  },
  {
   "cell_type": "code",
   "execution_count": 28,
   "metadata": {},
   "outputs": [
    {
     "name": "stdout",
     "output_type": "stream",
     "text": [
      "     0                                                  1\n",
      "0  航迹1  [121.4931314,25.5407], [121.51914009999999,25....\n",
      "     0                                                  1\n",
      "0  航迹4  [124.70136509999999,23.913], [124.733433499999...\n",
      "     0                                                  1\n",
      "0  航迹5  [125.3301973,34.4874], [125.34483279999999,34....\n",
      "     0                                                  1\n",
      "0  航迹6  [124.63291670000001,26.6331], [124.62727720000...\n",
      "     0                                                  1\n",
      "0  航迹7  [123.5280996,30.2049], [123.47816929999999,30....\n"
     ]
    }
   ],
   "source": [
    "ans = pd.DataFrame()\n",
    "for i in [1, 4, 5, 6, 7]:\n",
    "    df = pd.read_csv('./fitting_on_trace/hj {}.csv'.format(i))\n",
    "    m = upload.xian(df,colName= \"航迹{}\".format(i))\n",
    "    print(m.head())\n",
    "    ans = pd.concat([ans, m])"
   ]
  },
  {
   "cell_type": "code",
   "execution_count": 29,
   "metadata": {},
   "outputs": [],
   "source": [
    "upload.save(ans, '拟合14567航迹')"
   ]
  },
  {
   "cell_type": "code",
   "execution_count": 15,
   "metadata": {},
   "outputs": [],
   "source": [
    "df = upload.dian(df, '拟合航迹1.csv')\n",
    "h = upload.oldTonew(df['new'])\n",
    "m = [['0', h]]"
   ]
  },
  {
   "cell_type": "code",
   "execution_count": null,
   "metadata": {},
   "outputs": [],
   "source": [
    "m = pd.DataFrame(m)"
   ]
  },
  {
   "cell_type": "code",
   "execution_count": null,
   "metadata": {},
   "outputs": [],
   "source": [
    "m.to_csv(os.path.join(root, '拟合航迹1.csv'),index=False)"
   ]
  },
  {
   "cell_type": "code",
   "execution_count": 5,
   "metadata": {},
   "outputs": [],
   "source": [
    "df = pd.read_excel('Trace_for_Compute_Similarity.xlsx')"
   ]
  },
  {
   "cell_type": "code",
   "execution_count": 14,
   "metadata": {},
   "outputs": [
    {
     "name": "stderr",
     "output_type": "stream",
     "text": [
      "D:\\02_prosoftware\\anaconda\\lib\\site-packages\\ipykernel_launcher.py:26: SettingWithCopyWarning: \n",
      "A value is trying to be set on a copy of a slice from a DataFrame.\n",
      "Try using .loc[row_indexer,col_indexer] = value instead\n",
      "\n",
      "See the caveats in the documentation: http://pandas.pydata.org/pandas-docs/stable/indexing.html#indexing-view-versus-copy\n",
      "D:\\02_prosoftware\\anaconda\\lib\\site-packages\\ipykernel_launcher.py:27: SettingWithCopyWarning: \n",
      "A value is trying to be set on a copy of a slice from a DataFrame.\n",
      "Try using .loc[row_indexer,col_indexer] = value instead\n",
      "\n",
      "See the caveats in the documentation: http://pandas.pydata.org/pandas-docs/stable/indexing.html#indexing-view-versus-copy\n",
      "D:\\02_prosoftware\\anaconda\\lib\\site-packages\\ipykernel_launcher.py:28: SettingWithCopyWarning: \n",
      "A value is trying to be set on a copy of a slice from a DataFrame.\n",
      "Try using .loc[row_indexer,col_indexer] = value instead\n",
      "\n",
      "See the caveats in the documentation: http://pandas.pydata.org/pandas-docs/stable/indexing.html#indexing-view-versus-copy\n"
     ]
    }
   ],
   "source": [
    "df_ans = pd.DataFrame()\n",
    "for i in df['ID'].drop_duplicates():\n",
    "    df_temp = df[df['ID']==i]\n",
    "    df_temp = upload.xian(df_temp, str(i))\n",
    "    df_ans = df_ans.append(df_temp)"
   ]
  },
  {
   "cell_type": "code",
   "execution_count": 16,
   "metadata": {},
   "outputs": [],
   "source": [
    "upload.save(df_ans, '第二题数据')"
   ]
  },
  {
   "cell_type": "code",
   "execution_count": null,
   "metadata": {},
   "outputs": [],
   "source": []
  }
 ],
 "metadata": {
  "kernelspec": {
   "display_name": "Python 3",
   "language": "python",
   "name": "python3"
  },
  "language_info": {
   "codemirror_mode": {
    "name": "ipython",
    "version": 3
   },
   "file_extension": ".py",
   "mimetype": "text/x-python",
   "name": "python",
   "nbconvert_exporter": "python",
   "pygments_lexer": "ipython3",
   "version": "3.7.3"
  }
 },
 "nbformat": 4,
 "nbformat_minor": 2
}
