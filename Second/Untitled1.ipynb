{
 "cells": [
  {
   "cell_type": "code",
   "execution_count": 6,
   "metadata": {},
   "outputs": [],
   "source": [
    "import pandas as pd\n",
    "import numpy as np"
   ]
  },
  {
   "cell_type": "code",
   "execution_count": 7,
   "metadata": {},
   "outputs": [],
   "source": [
    "class UPLOAD:\n",
    "    def __init__(self, rootName=''):\n",
    "        self.root = rootName\n",
    "        \n",
    "    def dian(self, df, name):\n",
    "        df['JD'] = df['JD'].astype(str)\n",
    "        df['WD'] = df['WD'].astype(str)\n",
    "        df['new'] = df['JD']+','+df['WD']\n",
    "        df.to_csv(name+'.csv', index=False)\n",
    "        return df\n",
    "    \n",
    "    def oldTonew(self, df_temp):\n",
    "        h = list()\n",
    "        for j in df_temp:\n",
    "            j = '['+j+']'\n",
    "            h.append(j)\n",
    "        h = str(h)\n",
    "        h = h.replace(\"'\",\"\")\n",
    "        h = h[1:-1]\n",
    "        return h\n",
    "    \n",
    "    def xian(self, df, colName='0'):\n",
    "        '''将同一组的JD和WD变成一列\n",
    "        \n",
    "        df是df,colName是要换的名字'''\n",
    "        df['JD'] = df['JD'].astype(str)\n",
    "        df['WD'] = df['WD'].astype(str)\n",
    "        df['new'] = df['JD']+','+df['WD']\n",
    "        df_temp = df['new']\n",
    "        m = list()\n",
    "        h = list()\n",
    "        for j in df_temp:\n",
    "            j = '['+j+']'\n",
    "            h.append(j)\n",
    "        h = str(h)\n",
    "        h = h.replace(\"'\",\"\")\n",
    "        h = h[1:-1]\n",
    "        m = [[colName, h]]\n",
    "        m = pd.DataFrame(m)\n",
    "        return m\n",
    "    \n",
    "    def save(self, df, name):\n",
    "        '''存为csv\n",
    "        \n",
    "        目录存在self.root里,初始化的时候确定,name就是要保存的文件名字'''\n",
    "        df.to_csv(os.path.join(self.root, name+'.csv'), index=False)"
   ]
  },
  {
   "cell_type": "code",
   "execution_count": 8,
   "metadata": {},
   "outputs": [],
   "source": [
    "up = UPLOAD('航迹线')"
   ]
  },
  {
   "cell_type": "code",
   "execution_count": 14,
   "metadata": {},
   "outputs": [],
   "source": [
    "df = pd.read_excel('./Trace_for_Compute_Similarity.xlsx')"
   ]
  },
  {
   "cell_type": "code",
   "execution_count": 15,
   "metadata": {},
   "outputs": [],
   "source": [
    "df = df[df['target']=='F-3']"
   ]
  },
  {
   "cell_type": "code",
   "execution_count": 5,
   "metadata": {},
   "outputs": [
    {
     "ename": "NameError",
     "evalue": "name 'df' is not defined",
     "output_type": "error",
     "traceback": [
      "\u001b[1;31m---------------------------------------------------------------------------\u001b[0m",
      "\u001b[1;31mNameError\u001b[0m                                 Traceback (most recent call last)",
      "\u001b[1;32m<ipython-input-5-a74c58233b9e>\u001b[0m in \u001b[0;36m<module>\u001b[1;34m\u001b[0m\n\u001b[1;32m----> 1\u001b[1;33m \u001b[0mdf\u001b[0m\u001b[1;33m.\u001b[0m\u001b[0minfo\u001b[0m\u001b[1;33m(\u001b[0m\u001b[1;33m)\u001b[0m\u001b[1;33m\u001b[0m\u001b[1;33m\u001b[0m\u001b[0m\n\u001b[0m",
      "\u001b[1;31mNameError\u001b[0m: name 'df' is not defined"
     ]
    }
   ],
   "source": [
    "df.info()"
   ]
  },
  {
   "cell_type": "code",
   "execution_count": 4,
   "metadata": {},
   "outputs": [
    {
     "ename": "SyntaxError",
     "evalue": "invalid syntax (<ipython-input-4-0cb4f57ddb43>, line 2)",
     "output_type": "error",
     "traceback": [
      "\u001b[1;36m  File \u001b[1;32m\"<ipython-input-4-0cb4f57ddb43>\"\u001b[1;36m, line \u001b[1;32m2\u001b[0m\n\u001b[1;33m    for i in :\u001b[0m\n\u001b[1;37m             ^\u001b[0m\n\u001b[1;31mSyntaxError\u001b[0m\u001b[1;31m:\u001b[0m invalid syntax\n"
     ]
    }
   ],
   "source": [
    "ans = pd.DataFrame()\n",
    "for i in :\n",
    "    df_target = df.query('target == \"F-{}\"'.format(i))\n",
    "#     m = up.xian(df_target, colName='F-{}'.format(i))\n",
    "#     ans = pd.concat([ans, m])"
   ]
  },
  {
   "cell_type": "code",
   "execution_count": 3,
   "metadata": {},
   "outputs": [
    {
     "ename": "NameError",
     "evalue": "name 'up' is not defined",
     "output_type": "error",
     "traceback": [
      "\u001b[1;31m---------------------------------------------------------------------------\u001b[0m",
      "\u001b[1;31mNameError\u001b[0m                                 Traceback (most recent call last)",
      "\u001b[1;32m<ipython-input-3-fad2846cd9ee>\u001b[0m in \u001b[0;36m<module>\u001b[1;34m\u001b[0m\n\u001b[0;32m      1\u001b[0m \u001b[1;32mimport\u001b[0m \u001b[0mos\u001b[0m\u001b[1;33m\u001b[0m\u001b[1;33m\u001b[0m\u001b[0m\n\u001b[1;32m----> 2\u001b[1;33m \u001b[0mup\u001b[0m\u001b[1;33m.\u001b[0m\u001b[0msave\u001b[0m\u001b[1;33m(\u001b[0m\u001b[0mans\u001b[0m\u001b[1;33m,\u001b[0m \u001b[1;34m'第二题航迹线'\u001b[0m\u001b[1;33m)\u001b[0m\u001b[1;33m\u001b[0m\u001b[1;33m\u001b[0m\u001b[0m\n\u001b[0m",
      "\u001b[1;31mNameError\u001b[0m: name 'up' is not defined"
     ]
    }
   ],
   "source": [
    "import os\n",
    "up.save(ans, '第二题航迹线')"
   ]
  },
  {
   "cell_type": "code",
   "execution_count": 17,
   "metadata": {},
   "outputs": [
    {
     "data": {
      "text/html": [
       "<div>\n",
       "<style scoped>\n",
       "    .dataframe tbody tr th:only-of-type {\n",
       "        vertical-align: middle;\n",
       "    }\n",
       "\n",
       "    .dataframe tbody tr th {\n",
       "        vertical-align: top;\n",
       "    }\n",
       "\n",
       "    .dataframe thead th {\n",
       "        text-align: right;\n",
       "    }\n",
       "</style>\n",
       "<table border=\"1\" class=\"dataframe\">\n",
       "  <thead>\n",
       "    <tr style=\"text-align: right;\">\n",
       "      <th></th>\n",
       "      <th>ID</th>\n",
       "      <th>WD</th>\n",
       "      <th>JD</th>\n",
       "      <th>GD</th>\n",
       "      <th>SD</th>\n",
       "      <th>SJ</th>\n",
       "      <th>target</th>\n",
       "      <th>Unnamed: 7</th>\n",
       "    </tr>\n",
       "  </thead>\n",
       "  <tbody>\n",
       "    <tr>\n",
       "      <th>0</th>\n",
       "      <td>R2019081304382083600874</td>\n",
       "      <td>32.502883</td>\n",
       "      <td>128.539677</td>\n",
       "      <td>4713.210571</td>\n",
       "      <td>732.972696</td>\n",
       "      <td>2012/2/1 9:56:17</td>\n",
       "      <td>F-2</td>\n",
       "      <td>NaN</td>\n",
       "    </tr>\n",
       "    <tr>\n",
       "      <th>1</th>\n",
       "      <td>R2019081304382083600874</td>\n",
       "      <td>32.506603</td>\n",
       "      <td>128.524688</td>\n",
       "      <td>5324.625537</td>\n",
       "      <td>691.699533</td>\n",
       "      <td>2012/2/1 9:56:27</td>\n",
       "      <td>F-2</td>\n",
       "      <td>NaN</td>\n",
       "    </tr>\n",
       "    <tr>\n",
       "      <th>2</th>\n",
       "      <td>R2019081304382083600874</td>\n",
       "      <td>32.511831</td>\n",
       "      <td>128.491755</td>\n",
       "      <td>4826.812241</td>\n",
       "      <td>721.709942</td>\n",
       "      <td>2012/2/1 9:56:37</td>\n",
       "      <td>F-2</td>\n",
       "      <td>NaN</td>\n",
       "    </tr>\n",
       "    <tr>\n",
       "      <th>3</th>\n",
       "      <td>R2019081304382083600874</td>\n",
       "      <td>32.496001</td>\n",
       "      <td>128.454330</td>\n",
       "      <td>5314.854409</td>\n",
       "      <td>715.651592</td>\n",
       "      <td>2012/2/1 9:56:47</td>\n",
       "      <td>F-2</td>\n",
       "      <td>NaN</td>\n",
       "    </tr>\n",
       "    <tr>\n",
       "      <th>4</th>\n",
       "      <td>R2019081304382083600874</td>\n",
       "      <td>32.512258</td>\n",
       "      <td>128.450483</td>\n",
       "      <td>5314.145277</td>\n",
       "      <td>726.428686</td>\n",
       "      <td>2012/2/1 9:56:57</td>\n",
       "      <td>F-2</td>\n",
       "      <td>NaN</td>\n",
       "    </tr>\n",
       "  </tbody>\n",
       "</table>\n",
       "</div>"
      ],
      "text/plain": [
       "                        ID         WD          JD           GD          SD  \\\n",
       "0  R2019081304382083600874  32.502883  128.539677  4713.210571  732.972696   \n",
       "1  R2019081304382083600874  32.506603  128.524688  5324.625537  691.699533   \n",
       "2  R2019081304382083600874  32.511831  128.491755  4826.812241  721.709942   \n",
       "3  R2019081304382083600874  32.496001  128.454330  5314.854409  715.651592   \n",
       "4  R2019081304382083600874  32.512258  128.450483  5314.145277  726.428686   \n",
       "\n",
       "                 SJ target  Unnamed: 7  \n",
       "0  2012/2/1 9:56:17    F-2         NaN  \n",
       "1  2012/2/1 9:56:27    F-2         NaN  \n",
       "2  2012/2/1 9:56:37    F-2         NaN  \n",
       "3  2012/2/1 9:56:47    F-2         NaN  \n",
       "4  2012/2/1 9:56:57    F-2         NaN  "
      ]
     },
     "execution_count": 17,
     "metadata": {},
     "output_type": "execute_result"
    }
   ],
   "source": [
    "df.head()"
   ]
  },
  {
   "cell_type": "code",
   "execution_count": 17,
   "metadata": {},
   "outputs": [],
   "source": [
    "from scipy.io import loadmat"
   ]
  },
  {
   "cell_type": "code",
   "execution_count": 18,
   "metadata": {},
   "outputs": [
    {
     "name": "stderr",
     "output_type": "stream",
     "text": [
      "D:\\02_prosoftware\\anaconda\\lib\\site-packages\\scipy\\io\\matlab\\mio.py:208: MatReadWarning: Duplicate variable name \"None\" in stream - replacing previous with new\n",
      "Consider mio5.varmats_from_mat to split file into single variable files\n",
      "  matfile_dict = MR.get_variables(variable_names)\n"
     ]
    }
   ],
   "source": [
    "m = loadmat('F_2,F_3_new.mat')"
   ]
  },
  {
   "cell_type": "markdown",
   "metadata": {},
   "source": [
    "# 保存old"
   ]
  },
  {
   "cell_type": "code",
   "execution_count": 35,
   "metadata": {},
   "outputs": [],
   "source": [
    "df = pd.read_excel('./Trace_for_Compute_Similarity.xlsx')"
   ]
  },
  {
   "cell_type": "code",
   "execution_count": 36,
   "metadata": {},
   "outputs": [],
   "source": [
    "df = df[df['target']=='F-4']"
   ]
  },
  {
   "cell_type": "code",
   "execution_count": 37,
   "metadata": {},
   "outputs": [],
   "source": [
    "df = df[['WD', 'JD']]"
   ]
  },
  {
   "cell_type": "code",
   "execution_count": 34,
   "metadata": {},
   "outputs": [],
   "source": [
    "df.to_csv('F_3_old.csv', index=False, header=False)"
   ]
  },
  {
   "cell_type": "code",
   "execution_count": 38,
   "metadata": {},
   "outputs": [],
   "source": [
    "df.to_csv('F_4_old.csv', index=False, header=False)"
   ]
  },
  {
   "cell_type": "markdown",
   "metadata": {},
   "source": [
    "# 保存new"
   ]
  },
  {
   "cell_type": "code",
   "execution_count": 42,
   "metadata": {},
   "outputs": [],
   "source": [
    "from scipy.io import loadmat\n",
    "m = loadmat('F_2,F_3_new.mat')\n",
    "\n",
    "a = pd.DataFrame(np.array(m['y']).T)\n",
    "b = pd.DataFrame(np.array(m['x']).T)\n",
    "\n",
    "c = pd.concat([a, b], axis=1)\n",
    "\n",
    "c.to_csv('F_3_new.csv', index=False, header=False)"
   ]
  },
  {
   "cell_type": "code",
   "execution_count": 62,
   "metadata": {},
   "outputs": [
    {
     "name": "stderr",
     "output_type": "stream",
     "text": [
      "D:\\02_prosoftware\\anaconda\\lib\\site-packages\\scipy\\io\\matlab\\mio.py:208: MatReadWarning: Duplicate variable name \"None\" in stream - replacing previous with new\n",
      "Consider mio5.varmats_from_mat to split file into single variable files\n",
      "  matfile_dict = MR.get_variables(variable_names)\n"
     ]
    }
   ],
   "source": [
    "from scipy.io import loadmat\n",
    "m = loadmat('F_2,F_3_new.mat')\n",
    "\n",
    "a = pd.DataFrame(np.array(m['y1']).T)\n",
    "b = pd.DataFrame(np.array(m['x1']).T)\n",
    "\n",
    "c = pd.concat([a, b], axis=1)\n",
    "\n",
    "c.to_csv('F_4_new.csv', index=False, header=False)"
   ]
  },
  {
   "cell_type": "code",
   "execution_count": null,
   "metadata": {},
   "outputs": [],
   "source": []
  }
 ],
 "metadata": {
  "kernelspec": {
   "display_name": "Python 3",
   "language": "python",
   "name": "python3"
  },
  "language_info": {
   "codemirror_mode": {
    "name": "ipython",
    "version": 3
   },
   "file_extension": ".py",
   "mimetype": "text/x-python",
   "name": "python",
   "nbconvert_exporter": "python",
   "pygments_lexer": "ipython3",
   "version": "3.7.3"
  }
 },
 "nbformat": 4,
 "nbformat_minor": 2
}
