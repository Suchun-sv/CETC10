{
 "cells": [
  {
   "cell_type": "code",
   "execution_count": 1,
   "metadata": {},
   "outputs": [],
   "source": [
    "class UPLOAD:\n",
    "    def __init__(self, rootName=''):\n",
    "        self.root = rootName\n",
    "        \n",
    "    def dian(self, df, name):\n",
    "        df['JD'] = df['JD'].astype(str)\n",
    "        df['WD'] = df['WD'].astype(str)\n",
    "        df['new'] = df['JD']+','+df['WD']\n",
    "        df.to_csv(name+'.csv', index=False)\n",
    "        return df\n",
    "    \n",
    "    def oldTonew(self, df_temp):\n",
    "        h = list()\n",
    "        for j in df_temp:\n",
    "            j = '['+j+']'\n",
    "            h.append(j)\n",
    "        h = str(h)\n",
    "        h = h.replace(\"'\",\"\")\n",
    "        h = h[1:-1]\n",
    "        return h\n",
    "    \n",
    "    def xian(self, df, colName='0'):\n",
    "        '''将同一组的JD和WD变成一列\n",
    "        \n",
    "        df是df,colName是要换的名字'''\n",
    "        df['JD'] = df['JD'].astype(str)\n",
    "        df['WD'] = df['WD'].astype(str)\n",
    "        df['new'] = df['JD']+','+df['WD']\n",
    "        df_temp = df['new']\n",
    "        m = list()\n",
    "        h = list()\n",
    "        for j in df_temp:\n",
    "            j = '['+j+']'\n",
    "            h.append(j)\n",
    "        h = str(h)\n",
    "        h = h.replace(\"'\",\"\")\n",
    "        h = h[1:-1]\n",
    "        m = [[colName, h]]\n",
    "        m = pd.DataFrame(m)\n",
    "        return m\n",
    "    \n",
    "    def save(self, df, name):\n",
    "        '''存为csv\n",
    "        \n",
    "        目录存在self.root里,初始化的时候确定,name就是要保存的文件名字'''\n",
    "        df.to_csv(os.path.join(self.root, name+'.csv'), index=False)"
   ]
  },
  {
   "cell_type": "code",
   "execution_count": null,
   "metadata": {},
   "outputs": [],
   "source": []
  }
 ],
 "metadata": {
  "kernelspec": {
   "display_name": "Python 3",
   "language": "python",
   "name": "python3"
  },
  "language_info": {
   "codemirror_mode": {
    "name": "ipython",
    "version": 3
   },
   "file_extension": ".py",
   "mimetype": "text/x-python",
   "name": "python",
   "nbconvert_exporter": "python",
   "pygments_lexer": "ipython3",
   "version": "3.7.3"
  }
 },
 "nbformat": 4,
 "nbformat_minor": 2
}
