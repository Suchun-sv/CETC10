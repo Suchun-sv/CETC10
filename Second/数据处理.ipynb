{
 "cells": [
  {
   "cell_type": "code",
   "execution_count": 1,
   "metadata": {},
   "outputs": [],
   "source": [
    "import pandas as pd\n",
    "import numpy as np"
   ]
  },
  {
   "cell_type": "code",
   "execution_count": 61,
   "metadata": {},
   "outputs": [],
   "source": [
    "for mm in range(1, 7+1):\n",
    "    df = pd.read_excel('./chaifen/{}.xlsx'.format(mm))\n",
    "\n",
    "    root = './data/{}'.format(mm)\n",
    "    \n",
    "    if not os.path.exists(root):\n",
    "        os.mkdir(root)\n",
    "\n",
    "    ID = df.drop_duplicates(['ID'], keep='first')['ID']\n",
    "\n",
    "    num = 0\n",
    "    for i in ID:\n",
    "        num+=1\n",
    "        df_temp = df[df['ID']==i]\n",
    "        df_temp= df_temp.reset_index()\n",
    "        df_temp = df_temp.drop(['index'], axis=1)\n",
    "        df_temp = df_temp[[\"WD\", 'JD', 'GD', 'SD']]\n",
    "        df_temp['N'] = df_temp.index.map(lambda x: make(x, df_temp.count()['WD']))\n",
    "        df_temp = df_temp[['N', 'WD', 'JD', 'GD', 'SD']]\n",
    "    #     print(df_temp.head())\n",
    "        df_temp.to_csv(os.path.join(root, \"{}.csv\".format(num)), index=False, header=False)"
   ]
  },
  {
   "cell_type": "code",
   "execution_count": 51,
   "metadata": {},
   "outputs": [],
   "source": [
    "def make(x, m):\n",
    "    if x == 0:\n",
    "        pass\n",
    "    else:\n",
    "#         print(\"{} / {}\".format(x, m))\n",
    "        x = x/m\n",
    "    return x"
   ]
  },
  {
   "cell_type": "code",
   "execution_count": 46,
   "metadata": {},
   "outputs": [
    {
     "data": {
      "text/plain": [
       "864"
      ]
     },
     "execution_count": 46,
     "metadata": {},
     "output_type": "execute_result"
    }
   ],
   "source": [
    "df_temp.count()['WD']"
   ]
  },
  {
   "cell_type": "code",
   "execution_count": 62,
   "metadata": {},
   "outputs": [],
   "source": [
    "from scipy.io import loadmat "
   ]
  },
  {
   "cell_type": "code",
   "execution_count": 152,
   "metadata": {},
   "outputs": [
    {
     "name": "stderr",
     "output_type": "stream",
     "text": [
      "D:\\02_prosoftware\\anaconda\\lib\\site-packages\\scipy\\io\\matlab\\mio.py:208: MatReadWarning: Duplicate variable name \"None\" in stream - replacing previous with new\n",
      "Consider mio5.varmats_from_mat to split file into single variable files\n",
      "  matfile_dict = MR.get_variables(variable_names)\n"
     ]
    }
   ],
   "source": [
    "m = loadmat('../08250310.mat')"
   ]
  },
  {
   "cell_type": "code",
   "execution_count": 123,
   "metadata": {},
   "outputs": [],
   "source": [
    "class UPLOAD:\n",
    "    def __init__(self, rootName=''):\n",
    "        self.root = rootName\n",
    "#         if not os.path.exists(rootName):\n",
    "#             os.mkdir(rootName)\n",
    "        \n",
    "    def dian(self, df, name):\n",
    "        df['JD'] = df['JD'].astype(str)\n",
    "        df['WD'] = df['WD'].astype(str)\n",
    "        df['new'] = df['JD']+','+df['WD']\n",
    "        df.to_csv(name+'.csv', index=False)\n",
    "        return df\n",
    "    \n",
    "    def oldTonew(self, df_temp):\n",
    "        h = list()\n",
    "        for j in df_temp:\n",
    "            j = '['+j+']'\n",
    "            h.append(j)\n",
    "        h = str(h)\n",
    "        h = h.replace(\"'\",\"\")\n",
    "        h = h[1:-1]\n",
    "        return h\n",
    "    \n",
    "    def xian(self, df, colName='0'):\n",
    "        '''将同一组的JD和WD变成一列\n",
    "        \n",
    "        df是df,colName是要换的名字'''\n",
    "        df['JD'] = df['JD'].astype(str)\n",
    "        df['WD'] = df['WD'].astype(str)\n",
    "        df['new'] = df['JD']+','+df['WD']\n",
    "        df_temp = df['new']\n",
    "        m = list()\n",
    "        h = list()\n",
    "        for j in df_temp:\n",
    "            j = '['+j+']'\n",
    "            h.append(j)\n",
    "        h = str(h)\n",
    "        h = h.replace(\"'\",\"\")\n",
    "        h = h[1:-1]\n",
    "        m = [[colName, h]]\n",
    "        m = pd.DataFrame(m)\n",
    "        return m\n",
    "    \n",
    "    def save(self, df, name):\n",
    "        '''存为csv\n",
    "        \n",
    "        目录存在self.root里,初始化的时候确定,name就是要保存的文件名字'''\n",
    "        if not os.path.exists(os.path.join(self.root, name+'.csv')):\n",
    "            os.mkdir(os.path.join(self.root, name+'.csv'))\n",
    "        df.to_csv(os.path.join(self.root, name+'.csv'), index=False)"
   ]
  },
  {
   "cell_type": "code",
   "execution_count": 169,
   "metadata": {},
   "outputs": [],
   "source": [
    "m = loadmat('../08250310.mat')\n",
    "\n",
    "upload = UPLOAD()\n",
    "hh = pd.DataFrame()\n",
    "for i in range(1, 7+1):\n",
    "    a = np.array(m[\"j{}\".format(i)])\n",
    "    b = np.array(m[\"w{}\".format(i)])\n",
    "    a = a.T\n",
    "    b = b.T\n",
    "\n",
    "    df_1 = pd.DataFrame(a)\n",
    "    df_1.columns = ['JD']\n",
    "    df_2 = pd.DataFrame(b)\n",
    "    df_2.columns = ['WD']\n",
    "    df = pd.concat([df_1, df_2], axis=1)\n",
    "#     df.col =['JD', 'WD']\n",
    "    hh = hh.append(upload.xian(df, '{}'.format(i)))\n",
    "\n",
    "# m.to_csv('123.csv', index=False)\n",
    "m = hh\n",
    "m.to_csv('123.csv', index=False)"
   ]
  },
  {
   "cell_type": "code",
   "execution_count": 168,
   "metadata": {},
   "outputs": [
    {
     "data": {
      "text/html": [
       "<div>\n",
       "<style scoped>\n",
       "    .dataframe tbody tr th:only-of-type {\n",
       "        vertical-align: middle;\n",
       "    }\n",
       "\n",
       "    .dataframe tbody tr th {\n",
       "        vertical-align: top;\n",
       "    }\n",
       "\n",
       "    .dataframe thead th {\n",
       "        text-align: right;\n",
       "    }\n",
       "</style>\n",
       "<table border=\"1\" class=\"dataframe\">\n",
       "  <thead>\n",
       "    <tr style=\"text-align: right;\">\n",
       "      <th></th>\n",
       "      <th>0</th>\n",
       "      <th>1</th>\n",
       "    </tr>\n",
       "  </thead>\n",
       "  <tbody>\n",
       "    <tr>\n",
       "      <th>0</th>\n",
       "      <td>1</td>\n",
       "      <td>[129.75746242880822,33.16152719020843], [129.6...</td>\n",
       "    </tr>\n",
       "    <tr>\n",
       "      <th>0</th>\n",
       "      <td>2</td>\n",
       "      <td>[128.29374149106442,32.52383765224367], [128.2...</td>\n",
       "    </tr>\n",
       "    <tr>\n",
       "      <th>0</th>\n",
       "      <td>3</td>\n",
       "      <td>[130.76266085864975,36.04244970114902], [130.7...</td>\n",
       "    </tr>\n",
       "    <tr>\n",
       "      <th>0</th>\n",
       "      <td>4</td>\n",
       "      <td>[130.06511227935553,31.19774433784187], [130.0...</td>\n",
       "    </tr>\n",
       "    <tr>\n",
       "      <th>0</th>\n",
       "      <td>5</td>\n",
       "      <td>[124.36025764616207,38.898966933880004], [124....</td>\n",
       "    </tr>\n",
       "    <tr>\n",
       "      <th>0</th>\n",
       "      <td>6</td>\n",
       "      <td>[122.0497653214261,34.343954832665624], [122.0...</td>\n",
       "    </tr>\n",
       "    <tr>\n",
       "      <th>0</th>\n",
       "      <td>7</td>\n",
       "      <td>[133.09616762846707,32.45720100533217], [133.0...</td>\n",
       "    </tr>\n",
       "  </tbody>\n",
       "</table>\n",
       "</div>"
      ],
      "text/plain": [
       "   0                                                  1\n",
       "0  1  [129.75746242880822,33.16152719020843], [129.6...\n",
       "0  2  [128.29374149106442,32.52383765224367], [128.2...\n",
       "0  3  [130.76266085864975,36.04244970114902], [130.7...\n",
       "0  4  [130.06511227935553,31.19774433784187], [130.0...\n",
       "0  5  [124.36025764616207,38.898966933880004], [124....\n",
       "0  6  [122.0497653214261,34.343954832665624], [122.0...\n",
       "0  7  [133.09616762846707,32.45720100533217], [133.0..."
      ]
     },
     "execution_count": 168,
     "metadata": {},
     "output_type": "execute_result"
    }
   ],
   "source": [
    "hh"
   ]
  },
  {
   "cell_type": "code",
   "execution_count": 35,
   "metadata": {},
   "outputs": [],
   "source": [
    "import pandas as pd\n",
    "import numpy as np\n",
    "df = pd.read_excel('Trace_for_Compute_Similarity.xlsx')"
   ]
  },
  {
   "cell_type": "code",
   "execution_count": 36,
   "metadata": {},
   "outputs": [],
   "source": [
    "df = df[df['target']=='F-2']"
   ]
  },
  {
   "cell_type": "code",
   "execution_count": 37,
   "metadata": {},
   "outputs": [],
   "source": [
    "df = df.reset_index()"
   ]
  },
  {
   "cell_type": "code",
   "execution_count": 40,
   "metadata": {},
   "outputs": [],
   "source": [
    "df = df[['JD', 'WD']]"
   ]
  },
  {
   "cell_type": "code",
   "execution_count": 41,
   "metadata": {},
   "outputs": [],
   "source": [
    "df.to_csv('F_2.csv', index=False, header=False)"
   ]
  },
  {
   "cell_type": "code",
   "execution_count": 13,
   "metadata": {},
   "outputs": [
    {
     "name": "stderr",
     "output_type": "stream",
     "text": [
      "D:\\02_prosoftware\\anaconda\\lib\\site-packages\\ipykernel_launcher.py:1: SettingWithCopyWarning: \n",
      "A value is trying to be set on a copy of a slice from a DataFrame.\n",
      "Try using .loc[row_indexer,col_indexer] = value instead\n",
      "\n",
      "See the caveats in the documentation: http://pandas.pydata.org/pandas-docs/stable/indexing.html#indexing-view-versus-copy\n",
      "  \"\"\"Entry point for launching an IPython kernel.\n"
     ]
    }
   ],
   "source": [
    "df['index'] = df.index/857"
   ]
  },
  {
   "cell_type": "code",
   "execution_count": 15,
   "metadata": {},
   "outputs": [],
   "source": [
    "df.columns=['WD', 'JD', 'N']"
   ]
  },
  {
   "cell_type": "code",
   "execution_count": 19,
   "metadata": {},
   "outputs": [],
   "source": [
    "df = df[['N', 'WD', 'JD']]"
   ]
  },
  {
   "cell_type": "code",
   "execution_count": 24,
   "metadata": {},
   "outputs": [],
   "source": [
    "df.to_csv('F-2_Second.csv', index=False, header=False)"
   ]
  },
  {
   "cell_type": "code",
   "execution_count": 25,
   "metadata": {},
   "outputs": [],
   "source": [
    "from scipy.io import loadmat"
   ]
  },
  {
   "cell_type": "code",
   "execution_count": 31,
   "metadata": {},
   "outputs": [],
   "source": [
    "m = loadmat('../F_2_new_x_F_2_new_y.mat')"
   ]
  },
  {
   "cell_type": "code",
   "execution_count": 32,
   "metadata": {},
   "outputs": [],
   "source": [
    "F_2 = pd.DataFrame(m['F_2_new'])"
   ]
  },
  {
   "cell_type": "code",
   "execution_count": 34,
   "metadata": {},
   "outputs": [],
   "source": [
    "F_2.to_csv('F_2_new.csv', index=False, header=False)"
   ]
  },
  {
   "cell_type": "code",
   "execution_count": null,
   "metadata": {},
   "outputs": [],
   "source": []
  }
 ],
 "metadata": {
  "kernelspec": {
   "display_name": "Python 3",
   "language": "python",
   "name": "python3"
  },
  "language_info": {
   "codemirror_mode": {
    "name": "ipython",
    "version": 3
   },
   "file_extension": ".py",
   "mimetype": "text/x-python",
   "name": "python",
   "nbconvert_exporter": "python",
   "pygments_lexer": "ipython3",
   "version": "3.7.3"
  }
 },
 "nbformat": 4,
 "nbformat_minor": 2
}
