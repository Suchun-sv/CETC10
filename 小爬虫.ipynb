{
 "cells": [
  {
   "cell_type": "code",
   "execution_count": 12,
   "metadata": {},
   "outputs": [],
   "source": [
    "import requests\n",
    "from bs4 import beautifulsoup"
   ]
  },
  {
   "cell_type": "code",
   "execution_count": 7,
   "metadata": {},
   "outputs": [],
   "source": [
    "r = requests.get(\"https://zh.flightaware.com/live/flight/NKS478/history/20190811/1235Z/KFLL/KORD/tracklog\")"
   ]
  },
  {
   "cell_type": "code",
   "execution_count": 8,
   "metadata": {},
   "outputs": [
    {
     "data": {
      "text/plain": [
       "200"
      ]
     },
     "execution_count": 8,
     "metadata": {},
     "output_type": "execute_result"
    }
   ],
   "source": [
    "r.status_code"
   ]
  },
  {
   "cell_type": "code",
   "execution_count": 9,
   "metadata": {},
   "outputs": [],
   "source": [
    "r.encoding = \"utf-8\""
   ]
  },
  {
   "cell_type": "code",
   "execution_count": 13,
   "metadata": {},
   "outputs": [],
   "source": [
    "soup = BeautifulSoup(r.text, 'html.parser')"
   ]
  },
  {
   "cell_type": "code",
   "execution_count": 16,
   "metadata": {},
   "outputs": [],
   "source": [
    "a = soup.select('#tracklogTable)"
   ]
  },
  {
   "cell_type": "code",
   "execution_count": 25,
   "metadata": {},
   "outputs": [],
   "source": [
    "b = a[0].find_all('tr')"
   ]
  },
  {
   "cell_type": "code",
   "execution_count": 32,
   "metadata": {},
   "outputs": [],
   "source": [
    "ans = list()"
   ]
  },
  {
   "cell_type": "code",
   "execution_count": null,
   "metadata": {},
   "outputs": [],
   "source": []
  },
  {
   "cell_type": "code",
   "execution_count": 39,
   "metadata": {},
   "outputs": [],
   "source": [
    "def getHtmlBackTable(r, time):\n",
    "    soup = BeautifulSoup(r.text, 'html.parser')\n",
    "    a = soup.select('#tracklogTable')\n",
    "    b = a[0].find_all('tr')\n",
    "    for i in range(len(b)):\n",
    "        m = list()\n",
    "        items= b[i].find_all('td')\n",
    "        if(len(items)<9):\n",
    "            continue\n",
    "        m.append(time)\n",
    "        for item in items:\n",
    "            m.append(item.text)\n",
    "        ans.append(m)"
   ]
  },
  {
   "cell_type": "code",
   "execution_count": 43,
   "metadata": {},
   "outputs": [],
   "source": [
    "import pandas as pd"
   ]
  },
  {
   "cell_type": "code",
   "execution_count": 44,
   "metadata": {},
   "outputs": [],
   "source": [
    "df = pd.DataFrame(ans)"
   ]
  },
  {
   "cell_type": "code",
   "execution_count": 49,
   "metadata": {},
   "outputs": [],
   "source": [
    "df.columns = ['时间', '纬度', '经度', '航向', '节', '时速', '高度', '爬升率', '数据源']"
   ]
  },
  {
   "cell_type": "code",
   "execution_count": 50,
   "metadata": {},
   "outputs": [
    {
     "data": {
      "text/html": [
       "<div>\n",
       "<style scoped>\n",
       "    .dataframe tbody tr th:only-of-type {\n",
       "        vertical-align: middle;\n",
       "    }\n",
       "\n",
       "    .dataframe tbody tr th {\n",
       "        vertical-align: top;\n",
       "    }\n",
       "\n",
       "    .dataframe thead th {\n",
       "        text-align: right;\n",
       "    }\n",
       "</style>\n",
       "<table border=\"1\" class=\"dataframe\">\n",
       "  <thead>\n",
       "    <tr style=\"text-align: right;\">\n",
       "      <th></th>\n",
       "      <th>时间</th>\n",
       "      <th>纬度</th>\n",
       "      <th>经度</th>\n",
       "      <th>航向</th>\n",
       "      <th>节</th>\n",
       "      <th>时速</th>\n",
       "      <th>高度</th>\n",
       "      <th>爬升率</th>\n",
       "      <th>数据源</th>\n",
       "    </tr>\n",
       "  </thead>\n",
       "  <tbody>\n",
       "    <tr>\n",
       "      <th>0</th>\n",
       "      <td>星期日 20:39:3308:39下午</td>\n",
       "      <td>26.065926.07</td>\n",
       "      <td>-80.1623-80.16</td>\n",
       "      <td>← 270°</td>\n",
       "      <td>159</td>\n",
       "      <td>295</td>\n",
       "      <td>145145</td>\n",
       "      <td></td>\n",
       "      <td>FlightAware ADS-B  (KHWO)</td>\n",
       "    </tr>\n",
       "    <tr>\n",
       "      <th>1</th>\n",
       "      <td>星期日 20:39:4908:39下午</td>\n",
       "      <td>26.065826.07</td>\n",
       "      <td>-80.1755-80.18</td>\n",
       "      <td>← 269°</td>\n",
       "      <td>153</td>\n",
       "      <td>283</td>\n",
       "      <td>389389</td>\n",
       "      <td>714</td>\n",
       "      <td>FlightAware ADS-B  (KBCT)</td>\n",
       "    </tr>\n",
       "    <tr>\n",
       "      <th>2</th>\n",
       "      <td>星期日 20:40:0508:40下午</td>\n",
       "      <td>26.065626.07</td>\n",
       "      <td>-80.1889-80.19</td>\n",
       "      <td>← 269°</td>\n",
       "      <td>165</td>\n",
       "      <td>306</td>\n",
       "      <td>526526</td>\n",
       "      <td>400</td>\n",
       "      <td>FlightAware ADS-B  (KHST)</td>\n",
       "    </tr>\n",
       "    <tr>\n",
       "      <th>3</th>\n",
       "      <td>星期日 20:40:2108:40下午</td>\n",
       "      <td>26.065426.07</td>\n",
       "      <td>-80.2034-80.20</td>\n",
       "      <td>← 269°</td>\n",
       "      <td>184</td>\n",
       "      <td>341</td>\n",
       "      <td>602602</td>\n",
       "      <td>229</td>\n",
       "      <td>FlightAware ADS-B  (KOPF)</td>\n",
       "    </tr>\n",
       "    <tr>\n",
       "      <th>4</th>\n",
       "      <td>星期日 20:40:3708:40下午</td>\n",
       "      <td>26.065326.07</td>\n",
       "      <td>-80.2197-80.22</td>\n",
       "      <td>← 270°</td>\n",
       "      <td>211</td>\n",
       "      <td>391</td>\n",
       "      <td>648648</td>\n",
       "      <td>186</td>\n",
       "      <td>FlightAware ADS-B  (KMIA)</td>\n",
       "    </tr>\n",
       "  </tbody>\n",
       "</table>\n",
       "</div>"
      ],
      "text/plain": [
       "                    时间            纬度              经度      航向    节   时速  \\\n",
       "0  星期日 20:39:3308:39下午  26.065926.07  -80.1623-80.16  ← 270°  159  295   \n",
       "1  星期日 20:39:4908:39下午  26.065826.07  -80.1755-80.18  ← 269°  153  283   \n",
       "2  星期日 20:40:0508:40下午  26.065626.07  -80.1889-80.19  ← 269°  165  306   \n",
       "3  星期日 20:40:2108:40下午  26.065426.07  -80.2034-80.20  ← 269°  184  341   \n",
       "4  星期日 20:40:3708:40下午  26.065326.07  -80.2197-80.22  ← 270°  211  391   \n",
       "\n",
       "       高度   爬升率                          数据源  \n",
       "0  145145         FlightAware ADS-B  (KHWO)   \n",
       "1  389389  714    FlightAware ADS-B  (KBCT)   \n",
       "2  526526  400    FlightAware ADS-B  (KHST)   \n",
       "3  602602  229    FlightAware ADS-B  (KOPF)   \n",
       "4  648648  186    FlightAware ADS-B  (KMIA)   "
      ]
     },
     "execution_count": 50,
     "metadata": {},
     "output_type": "execute_result"
    }
   ],
   "source": [
    "df.head()"
   ]
  },
  {
   "cell_type": "code",
   "execution_count": null,
   "metadata": {},
   "outputs": [],
   "source": []
  }
 ],
 "metadata": {
  "kernelspec": {
   "display_name": "Python 3",
   "language": "python",
   "name": "python3"
  },
  "language_info": {
   "codemirror_mode": {
    "name": "ipython",
    "version": 3
   },
   "file_extension": ".py",
   "mimetype": "text/x-python",
   "name": "python",
   "nbconvert_exporter": "python",
   "pygments_lexer": "ipython3",
   "version": "3.6.8"
  }
 },
 "nbformat": 4,
 "nbformat_minor": 2
}
