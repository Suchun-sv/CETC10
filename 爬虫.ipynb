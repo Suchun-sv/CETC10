{
 "cells": [
  {
   "cell_type": "code",
   "execution_count": 1,
   "metadata": {},
   "outputs": [],
   "source": [
    "import requests\n",
    "from bs4 import BeautifulSoup"
   ]
  },
  {
   "cell_type": "code",
   "execution_count": 9,
   "metadata": {},
   "outputs": [],
   "source": [
    "def getHtmlBackTable(r, time):\n",
    "    ans = list()\n",
    "    soup = BeautifulSoup(r.text, 'html.parser')\n",
    "    a = soup.select('#tracklogTable')\n",
    "    b = a[0].find_all('tr')\n",
    "    for i in range(len(b)):\n",
    "        m = list()\n",
    "        items= b[i].find_all('td')\n",
    "        if(len(items)<9):\n",
    "            continue\n",
    "        m.append(time)\n",
    "        for item in items:\n",
    "            m.append(item.text)\n",
    "        ans.append(m)\n",
    "    return ans"
   ]
  },
  {
   "cell_type": "code",
   "execution_count": 12,
   "metadata": {},
   "outputs": [],
   "source": [
    "ans = list()"
   ]
  },
  {
   "cell_type": "code",
   "execution_count": 13,
   "metadata": {},
   "outputs": [
    {
     "name": "stdout",
     "output_type": "stream",
     "text": [
      "现在在爬取的是https://zh.flightaware.com/live/flight/NKS478/history/20190801/1235Z/KFLL/KORD/tracklog, 返回码是200\n",
      "现在在爬取的是https://zh.flightaware.com/live/flight/NKS478/history/20190802/1235Z/KFLL/KORD/tracklog, 返回码是200\n",
      "现在在爬取的是https://zh.flightaware.com/live/flight/NKS478/history/20190803/1235Z/KFLL/KORD/tracklog, 返回码是200\n",
      "现在在爬取的是https://zh.flightaware.com/live/flight/NKS478/history/20190804/1235Z/KFLL/KORD/tracklog, 返回码是200\n",
      "现在在爬取的是https://zh.flightaware.com/live/flight/NKS478/history/20190805/1235Z/KFLL/KORD/tracklog, 返回码是200\n",
      "现在在爬取的是https://zh.flightaware.com/live/flight/NKS478/history/20190806/1235Z/KFLL/KORD/tracklog, 返回码是200\n",
      "现在在爬取的是https://zh.flightaware.com/live/flight/NKS478/history/20190807/1235Z/KFLL/KORD/tracklog, 返回码是200\n",
      "现在在爬取的是https://zh.flightaware.com/live/flight/NKS478/history/20190808/1235Z/KFLL/KORD/tracklog, 返回码是200\n",
      "现在在爬取的是https://zh.flightaware.com/live/flight/NKS478/history/20190809/1235Z/KFLL/KORD/tracklog, 返回码是200\n"
     ]
    }
   ],
   "source": [
    "for day in range(1, 10):\n",
    "    dayString = \"201908{:0>2}\".format(day)\n",
    "    url = \"https://zh.flightaware.com/live/flight/NKS478/history/\"+dayString+\"/1235Z/KFLL/KORD/tracklog\"\n",
    "    r = requests.get(url)\n",
    "    print(\"现在在爬取的是{}, 返回码是{}\".format(url, r.status_code))\n",
    "    if r.status_code == 200 :\n",
    "        ans.extend(getHtmlBackTable(r, dayString))"
   ]
  },
  {
   "cell_type": "code",
   "execution_count": 18,
   "metadata": {},
   "outputs": [],
   "source": [
    "df = pd.DataFrame(ans)\n",
    "colName = ['日期', '时间', '纬度', '经度', '航向', '节', '时速', '高度', '爬升率', '数据源']\n",
    "df.columns = colName\n",
    "df.to_csv(path_or_buf = './试一下数据.csv', columns= colName)"
   ]
  },
  {
   "cell_type": "code",
   "execution_count": null,
   "metadata": {},
   "outputs": [],
   "source": []
  }
 ],
 "metadata": {
  "kernelspec": {
   "display_name": "Python 3",
   "language": "python",
   "name": "python3"
  },
  "language_info": {
   "codemirror_mode": {
    "name": "ipython",
    "version": 3
   },
   "file_extension": ".py",
   "mimetype": "text/x-python",
   "name": "python",
   "nbconvert_exporter": "python",
   "pygments_lexer": "ipython3",
   "version": "3.6.8"
  }
 },
 "nbformat": 4,
 "nbformat_minor": 2
}
